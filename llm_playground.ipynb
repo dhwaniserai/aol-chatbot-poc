{
 "cells": [
  {
   "cell_type": "code",
   "execution_count": null,
   "metadata": {},
   "outputs": [],
   "source": [
    "%pip install ollama"
   ]
  },
  {
   "cell_type": "code",
   "execution_count": 4,
   "metadata": {},
   "outputs": [
    {
     "name": "stdout",
     "output_type": "stream",
     "text": [
      "<think>\n",
      "\n",
      "</think>\n",
      "\n",
      "The \"Art of Living\" is a concept that emphasizes living a meaningful and fulfilling life by finding harmony between the inner self (spiritual essence) and the outer world (material existence). It often involves practices such as meditation, yoga, breathing exercises, and mindfulness to achieve inner peace and spiritual growth. The term can be interpreted in various ways depending on cultural, religious, or philosophical contexts.\n",
      "\n",
      "In many traditions, it is associated with Vedic philosophy, which views life as a journey of self-realization and service to the larger world. Achieving \"moksha\" (liberation) is often seen as the ultimate goal, which includes liberation from the cycle of rebirths (dukha), attachment (karma), and desire (mimamsa).\n",
      "\n",
      "The Art of Living can also be understood in a practical sense, focusing on how one lives their life with purpose, wisdom, and compassion. It is not just about achieving spiritual goals but also about living in harmony with oneself and others, and contributing positively to the world."
     ]
    }
   ],
   "source": [
    "from ollama import chat\n",
    "\n",
    "stream = chat(\n",
    "    model='deepseek-r1:7b',\n",
    "    messages=[{'role': 'user', 'content': 'What is Art of Living?'}],\n",
    "    stream=True,\n",
    ")\n",
    "\n",
    "for chunk in stream:\n",
    "  print(chunk['message']['content'], end='', flush=True)"
   ]
  }
 ],
 "metadata": {
  "kernelspec": {
   "display_name": "Python 3",
   "language": "python",
   "name": "python3"
  },
  "language_info": {
   "codemirror_mode": {
    "name": "ipython",
    "version": 3
   },
   "file_extension": ".py",
   "mimetype": "text/x-python",
   "name": "python",
   "nbconvert_exporter": "python",
   "pygments_lexer": "ipython3",
   "version": "3.9.6"
  }
 },
 "nbformat": 4,
 "nbformat_minor": 2
}
